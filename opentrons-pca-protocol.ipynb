{
 "cells": [
  {
   "cell_type": "markdown",
   "source": [
    "# Polymerase Chain Assembly protocol for OT-2"
   ],
   "metadata": {
    "collapsed": false
   },
   "id": "1bd8fbea59bc7931"
  },
  {
   "cell_type": "code",
   "execution_count": null,
   "outputs": [],
   "source": [
    "import opentrons.execute\n",
    "from opentrons import protocol_api\n",
    "import json"
   ],
   "metadata": {
    "collapsed": false
   },
   "id": "5262ac8b9e1bc985"
  },
  {
   "cell_type": "markdown",
   "source": [
    "## General deck setup"
   ],
   "metadata": {
    "collapsed": false
   },
   "id": "3f78783b0de189d"
  },
  {
   "cell_type": "code",
   "execution_count": null,
   "outputs": [],
   "source": [
    "protocol = opentrons.execute.get_protocol_api(\"2.17\")\n",
    "protocol.home()"
   ],
   "metadata": {
    "collapsed": false
   },
   "id": "d27f691ef54a5bd"
  },
  {
   "cell_type": "code",
   "execution_count": null,
   "outputs": [],
   "source": [
    "# Load tip racks\n",
    "tip_rack_20 = protocol.load_labware('opentrons_96_tiprack_20ul', 9)\n",
    "tip_rack_300 = protocol.load_labware('opentrons_96_tiprack_300ul', 6)"
   ],
   "metadata": {
    "collapsed": false
   },
   "id": "3fe984134d543e27"
  },
  {
   "cell_type": "code",
   "execution_count": 1,
   "outputs": [],
   "source": [
    "# Load pipette tips\n",
    "p20 = protocol.load_instrument(instrument_name='p20_single_gen2', mount=\"right\", tip_racks = [tip_rack_20])\n",
    "p300 = protocol.load_instrument(instrument_name='p300_single', mount='left', tip_racks=[tip_rack_300])\n",
    "p300.flow_rate.aspirate = 50"
   ],
   "metadata": {
    "collapsed": false,
    "ExecuteTime": {
     "end_time": "2024-05-06T15:10:21.510979Z",
     "start_time": "2024-05-06T15:10:21.508607Z"
    }
   },
   "id": "8a67d092296652e6"
  },
  {
   "cell_type": "code",
   "execution_count": null,
   "outputs": [],
   "source": [
    "# Load well plates\n",
    "frag_plate = protocol.load_labware(\"corning_96_wellplate_360ul_flat\", 1)\n",
    "qc_plate = protocol.load_labware(\"corning_96_wellplate_360ul_flat\", 2)"
   ],
   "metadata": {
    "collapsed": false
   },
   "id": "5afb57f88663a1a1"
  },
  {
   "cell_type": "markdown",
   "source": [
    "### Add reagents to well plate"
   ],
   "metadata": {
    "collapsed": false
   },
   "id": "6e286abb03a59679"
  },
  {
   "cell_type": "code",
   "execution_count": null,
   "outputs": [],
   "source": [
    "# Define liquids (optional)\n",
    "suspended_dna = protocol.define_liquid(\n",
    "    name=\"Suspended DNA\",\n",
    "    description=\"Oligo fragments suspended in buffer\",\n",
    "    display_color=\"#a8329d\",\n",
    ")"
   ],
   "metadata": {
    "collapsed": false
   },
   "id": "de19f4fe67281dee"
  },
  {
   "cell_type": "code",
   "execution_count": null,
   "outputs": [],
   "source": [
    "frag_wells = frag_plate.wells()[0:19]  # check that layout matches frag plate; currently goes A1, B1, C1,...\n",
    "\n",
    "for well in frag_wells:\n",
    "    well.load_liquid(suspended_dna, volume=50)"
   ],
   "metadata": {
    "collapsed": false
   },
   "id": "6cf887dd6626851d"
  },
  {
   "cell_type": "markdown",
   "source": [
    "## Load modules"
   ],
   "metadata": {
    "collapsed": false
   },
   "id": "1eeb50fdd82c1f3f"
  },
  {
   "cell_type": "code",
   "execution_count": null,
   "outputs": [],
   "source": [
    "thermocycler = protocol.load_module(\"thermocyclerModuleV1\", 7)\n",
    "thermocycler_plate = thermocycler.load_labware(\"nest_96_wellplate_100ul_pcr_full_skirt\")"
   ],
   "metadata": {
    "collapsed": false
   },
   "id": "eaab48759c6cf25b"
  },
  {
   "cell_type": "code",
   "execution_count": null,
   "outputs": [],
   "source": [
    "temp_module = protocol.load_module(\"temperatureModuleV1\", 3)\n",
    "temp_tubes = temp_module.load_labware(\"opentrons_24_aluminumblock_generic_2ml_screwcap\")"
   ],
   "metadata": {
    "collapsed": false
   },
   "id": "8b48a32985920b43"
  },
  {
   "cell_type": "markdown",
   "source": [
    "### Adding reagents to temperature controller"
   ],
   "metadata": {
    "collapsed": false
   },
   "id": "6b060a3440eb8c67"
  },
  {
   "cell_type": "code",
   "execution_count": null,
   "outputs": [],
   "source": [
    "# Define liquids (optional)\n",
    "nuclease_free_water = protocol.define_liquid(\n",
    "    name=\"Nuclease free water\",\n",
    "    description=\"Nuclease free water\",\n",
    "    display_color=\"#0000FF\",\n",
    ")\n",
    "\n",
    "pcr_mastermix = protocol.define_liquid(\n",
    "    name=\"PCR mastermix\",\n",
    "    description=\"PCR mastermix\",\n",
    "    display_color=\"#00FF00\",\n",
    ")"
   ],
   "metadata": {
    "collapsed": false
   },
   "id": "6532c7f9a263799d"
  },
  {
   "cell_type": "code",
   "execution_count": null,
   "outputs": [],
   "source": [
    "# Define reagents\n",
    "water_well = temp_tubes.wells_by_name()[\"A1\"]\n",
    "pcr_mastermix_well = temp_tubes.wells_by_name()[\"A2\"]\n",
    "waste_well = temp_tubes.wells_by_name()[\"A3\"]\n",
    "\n",
    "# Load liquids into the corresponding wells\n",
    "water_well.load_liquid(liquid=nuclease_free_water, volume=200)\n",
    "pcr_mastermix_well.load_liquid(liquid=pcr_mastermix, volume=200)"
   ],
   "metadata": {
    "collapsed": false
   },
   "id": "e6b191c807a57f87"
  },
  {
   "cell_type": "markdown",
   "source": [
    "# Run protocol\n",
    "\n",
    "### Assembly Operations Mapping\n",
    "\n",
    "The `assembly_operations` dictionary provides a mapping of the different assembly stages and the corresponding well combinations for each stage. This mapping allows us to automate the pipetting operations required for the polymerase chain assembly (PCA) protocol.\n",
    "\n",
    "The dictionary is structured as follows:\n",
    "- Keys at the top level represent the assembly stages (\"1\", \"2\", \"3\", \"4\", \"5\").\n",
    "- Within each stage, keys represent the destination well (e.g., \"A1\", \"B1\", \"C1\").\n",
    "- Values are lists containing the wells or fragments to be combined in the destination well.\n",
    "\n",
    "For example:\n",
    "- In Assembly Stage 1, Well A1 contains fragments 1 and 2, Well A2 contains fragments 3 and 4, and so on.\n",
    "- In Assembly Stage 2, Well B1 contains products from wells A1 and A2, Well B2 contains products from wells A3 and A4, and so on.\n",
    "\n",
    "This pattern continues until the final assembled product is achieved in Well E1 during Operation 5."
   ],
   "metadata": {
    "collapsed": false
   },
   "id": "aa5a52cc16f6286f"
  },
  {
   "cell_type": "code",
   "execution_count": 3,
   "outputs": [],
   "source": [
    "with open('pca-assembly-operations.json', 'r') as file:\n",
    "    assembly_operations = json.load(file)"
   ],
   "metadata": {
    "collapsed": false,
    "ExecuteTime": {
     "end_time": "2024-05-08T14:39:31.394248Z",
     "start_time": "2024-05-08T14:39:31.389397Z"
    }
   },
   "id": "6d3c901e8ce6ed52"
  },
  {
   "cell_type": "code",
   "execution_count": null,
   "outputs": [],
   "source": [
    "temp_module.set_temperature(celsius=4)"
   ],
   "metadata": {
    "collapsed": false
   },
   "id": "e5f32beaa0b02754"
  },
  {
   "cell_type": "code",
   "execution_count": null,
   "outputs": [],
   "source": [
    "thermocycler.open_lid()"
   ],
   "metadata": {
    "collapsed": false
   },
   "id": "2c072f3a88d37ccc"
  },
  {
   "cell_type": "markdown",
   "source": [
    " ### Assembly stage 1\n",
    " \n",
    "First, add 50 uL of PCR mastermix to each of the initial wells in the thermocycler well-plate. See `pca-assembly-operations.json` for the layout of the thermocycler well plate. After each assembly operation, we'll ad 25 uL of PCR mastermix to the new reaction wells."
   ],
   "metadata": {
    "collapsed": false
   },
   "id": "db9233e99cc8cf5f"
  },
  {
   "cell_type": "code",
   "execution_count": null,
   "outputs": [],
   "source": [
    "def add_pcr_master_mix(protocol, assembly_step):\n",
    "    step_data = assembly_operations[assembly_step]\n",
    "    \n",
    "    pcr_mastermix_vol = 50 if assembly_step == \"1\" else 25\n",
    "    p300.pick_up_tip()\n",
    "    \n",
    "    for dest_well, source_wells in step_data[\"well_mapping\"].items():\n",
    "        if dest_well == source_wells[0]:\n",
    "            # If destination well is the same as the first source well, skip the transfer\n",
    "            continue\n",
    "            \n",
    "        dest_well_obj = thermocycler_plate.wells_by_name()[dest_well]\n",
    "        \n",
    "        p300.aspirate(pcr_mastermix_vol, pcr_mastermix_well.bottom(3))\n",
    "        p300.dispense(pcr_mastermix_vol, dest_well_obj.top(z=2))\n",
    "        p300.blow_out(dest_well_obj.top(z=5))\n",
    "        \n",
    "    p300.drop_tip()  # add all pcr mastermix with one tip"
   ],
   "metadata": {
    "collapsed": false
   },
   "id": "fd51c853eabd237f"
  },
  {
   "cell_type": "code",
   "execution_count": null,
   "outputs": [],
   "source": [
    "add_pcr_master_mix(protocol, \"1\")"
   ],
   "metadata": {
    "collapsed": false
   },
   "id": "3bedb5bc5d7d2ef6"
  },
  {
   "cell_type": "markdown",
   "source": [
    "Now, we add the 25 uL of the suspended fragments to the appropriate wells on the thermocycler well plate. That means for the first assembly operation we have a total well volume of 100 uL (2 * 25 uL suspended fragments and 50 uL pcr mastermix). We also mix the liquid by aspirating/dispensing in the well, and blow out afterwards to ensure no droplets stay stuck on the tip."
   ],
   "metadata": {
    "collapsed": false
   },
   "id": "eebed3b8915dbec6"
  },
  {
   "cell_type": "code",
   "execution_count": null,
   "outputs": [],
   "source": [
    "frag_vol_op1 = 25\n",
    "\n",
    "def transfer_fragments_to_pcr_plate(protocol):\n",
    "    # Comment the following lines to use a new tip for each transfer\n",
    "    # p300.pick_up_tip()\n",
    "    for dest_well, source_wells in assembly_operations[\"1\"][\"well_mapping\"].items():\n",
    "        for source_well in source_wells:\n",
    "            frag_well = frag_plate.wells_by_name()[source_well]\n",
    "            pcr_well = thermocycler_plate.wells_by_name()[dest_well]\n",
    "\n",
    "            # Uncomment the following lines to use a new tip for each transfer\n",
    "            p300.pick_up_tip()\n",
    "            \n",
    "            p300.aspirate(frag_vol_op1, frag_well.bottom(-3.5))\n",
    "            p300.dispense(frag_vol_op1, pcr_well.top(z=2))\n",
    "            p300.mix(2, 10, pcr_well.top(z=2))  # mix two times, 10 uL\n",
    "            p300.blow_out(pcr_well.top(z=5))\n",
    "\n",
    "            # Uncomment the following lines to use a new tip for each transfer\n",
    "            p300.drop_tip()\n",
    "            \n",
    "    # Comment the following lines to use a new tip for each transfer\n",
    "    # p300.drop_tip()"
   ],
   "metadata": {
    "collapsed": false
   },
   "id": "3a0014aad7ff9ff1"
  },
  {
   "cell_type": "code",
   "execution_count": null,
   "outputs": [],
   "source": [
    "transfer_fragments_to_pcr_plate(protocol)"
   ],
   "metadata": {
    "collapsed": false
   },
   "id": "60ebd01cc9f04faf"
  },
  {
   "cell_type": "markdown",
   "source": [
    "Next, we run the first thermocycler profile. The initial denaturation and final extension are shared across all assembly operations, as is the number of cycles for the denaturation-annealing-extension (DAE) step. The part unique to each assembly operation is the extension time; we include the unique DAE profile in `pca-assembly-operations.json`.\n",
    "\n",
    "After the thermocycling steps are complete, we turn off the lid heat and hold the block temperature at 4C while performing the next transfer operations."
   ],
   "metadata": {
    "collapsed": false
   },
   "id": "a6300417e700a8f1"
  },
  {
   "cell_type": "code",
   "execution_count": null,
   "outputs": [],
   "source": [
    "def run_thermocycler(protocol, assembly_step):\n",
    "    step_data = assembly_operations[assembly_step]\n",
    "    thermocycler.close_lid()\n",
    "    \n",
    "    # Set lid temperature to avoid condensation\n",
    "    # https://physics.stackexchange.com/questions/488658/how-does-a-heated-lid-in-a-thermal-cycler-prevent-evaporation\n",
    "    thermocycler.set_lid_temperature(105)\n",
    "    \n",
    "    init_denaturation_step = {\"temperature\": 98, \"hold_time_seconds\": 30}    \n",
    "    final_extension_step = {\"temperature\": 72, \"hold_time_seconds\": 300}\n",
    "    \n",
    "    # Execute the thermocycler profile\n",
    "    thermocycler.set_block_temperature(init_denaturation_step[\"temperature\"], hold_time_seconds=init_denaturation_step[\"hold_time_seconds\"])\n",
    "    \n",
    "    thermocycler.execute_profile(\n",
    "        steps=step_data[\"thermocycling\"][\"dae_profile\"],\n",
    "        repetitions=30,\n",
    "        block_max_volume=step_data[\"thermocycling\"][\"max_well_volume\"]\n",
    "    )\n",
    "    \n",
    "    thermocycler.set_block_temperature(final_extension_step[\"temperature\"], hold_time_seconds=final_extension_step[\"hold_time_seconds\"])\n",
    "    \n",
    "    thermocycler.deactivate_lid()\n",
    "    \n",
    "    if assembly_step == \"1\":\n",
    "        thermocycler.set_block_temperature(temperature=4)\n",
    "        \n",
    "    thermocycler.open_lid()"
   ],
   "metadata": {
    "collapsed": false
   },
   "id": "7990a41a9d5bb862"
  },
  {
   "cell_type": "code",
   "execution_count": null,
   "outputs": [],
   "source": [
    "# run the first assembly operation\n",
    "run_thermocycler(protocol, \"1\")"
   ],
   "metadata": {
    "collapsed": false
   },
   "id": "55a7c3fcbba40f49"
  },
  {
   "cell_type": "markdown",
   "source": [
    "### Assembly stage 2\n",
    "After the first assembly operation, add 25 uL PCR mastermix to the new reaction wells, then combine 12.5 uL of the assembly products in the new reaction wells, and then run another PCR cycler. That means for assembly stage 2-5 we'll have a total well volume of 50 uL (2*12.5 uL products of first assembly + 25 uL pcr mastermix)."
   ],
   "metadata": {
    "collapsed": false
   },
   "id": "1f068d66fb23b48"
  },
  {
   "cell_type": "code",
   "execution_count": null,
   "outputs": [],
   "source": [
    "add_pcr_master_mix(protocol, \"2\")"
   ],
   "metadata": {
    "collapsed": false
   },
   "id": "1e94b2d4834affbf"
  },
  {
   "cell_type": "code",
   "execution_count": null,
   "outputs": [],
   "source": [
    "frag_vol_op2thru5 = 12.5\n",
    "\n",
    "def transfer_assembly_products(protocol, assembly_step):\n",
    "    step_data = assembly_operations[assembly_step]\n",
    "\n",
    "    for dest_well, source_wells in step_data[\"well_mapping\"].items():\n",
    "        if dest_well == source_wells[0]:\n",
    "            # If destination well is the same as the first source well, skip the transfer\n",
    "            continue\n",
    "\n",
    "        dest_well_obj = thermocycler_plate.wells_by_name()[dest_well]\n",
    "\n",
    "        # Mix the contents of the source wells and then transfer to destination well\n",
    "        for source_well in source_wells:\n",
    "            source_well_obj = thermocycler_plate.wells_by_name()[source_well]\n",
    "            p20.pick_up_tip()\n",
    "            p20.mix(2, 10, source_well_obj.bottom(11))\n",
    "            p20.aspirate(frag_vol_op2thru5, source_well_obj.bottom(11))\n",
    "            p20.dispense(frag_vol_op2thru5, dest_well_obj.top(z=15))\n",
    "            p20.mix(1, 10, dest_well_obj.bottom(11))\n",
    "            p20.blow_out(dest_well_obj.bottom(18))\n",
    "            p20.drop_tip()"
   ],
   "metadata": {
    "collapsed": false
   },
   "id": "83b7ba835879a7f9"
  },
  {
   "cell_type": "code",
   "execution_count": null,
   "outputs": [],
   "source": [
    "transfer_assembly_products(protocol, \"2\")"
   ],
   "metadata": {
    "collapsed": false
   },
   "id": "54befd0f38a4a005"
  },
  {
   "cell_type": "code",
   "execution_count": null,
   "outputs": [],
   "source": [
    "run_thermocycler(protocol, \"2\")"
   ],
   "metadata": {
    "collapsed": false
   },
   "id": "da81b767d9cbb0a0"
  },
  {
   "cell_type": "markdown",
   "source": [
    "### Assembly stage 3"
   ],
   "metadata": {
    "collapsed": false
   },
   "id": "6c18808e24ee6e47"
  },
  {
   "cell_type": "code",
   "execution_count": null,
   "outputs": [],
   "source": [
    "add_pcr_master_mix(protocol, \"3\")"
   ],
   "metadata": {
    "collapsed": false
   },
   "id": "d243b4d40ed68cf9"
  },
  {
   "cell_type": "code",
   "execution_count": null,
   "outputs": [],
   "source": [
    "transfer_assembly_products(protocol, \"3\")"
   ],
   "metadata": {
    "collapsed": false
   },
   "id": "15e1875364aa6ad7"
  },
  {
   "cell_type": "code",
   "execution_count": null,
   "outputs": [],
   "source": [
    "run_thermocycler(protocol, \"3\")"
   ],
   "metadata": {
    "collapsed": false
   },
   "id": "192908a2eca9683e"
  },
  {
   "cell_type": "markdown",
   "source": [
    "### Assembly stage 4"
   ],
   "metadata": {
    "collapsed": false
   },
   "id": "ba9723c4c068df52"
  },
  {
   "cell_type": "code",
   "execution_count": null,
   "outputs": [],
   "source": [
    "add_pcr_master_mix(protocol, \"4\")"
   ],
   "metadata": {
    "collapsed": false
   },
   "id": "ca8366dfda249496"
  },
  {
   "cell_type": "code",
   "execution_count": null,
   "outputs": [],
   "source": [
    "transfer_assembly_products(protocol, \"4\")"
   ],
   "metadata": {
    "collapsed": false
   },
   "id": "f8a479c219587c94"
  },
  {
   "cell_type": "code",
   "execution_count": null,
   "outputs": [],
   "source": [
    "run_thermocycler(protocol, \"4\")"
   ],
   "metadata": {
    "collapsed": false
   },
   "id": "7d3f6b189943931c"
  },
  {
   "cell_type": "markdown",
   "source": [
    "### Assembly stage 5"
   ],
   "metadata": {
    "collapsed": false
   },
   "id": "5a6bb3e149bd1c60"
  },
  {
   "cell_type": "code",
   "execution_count": null,
   "outputs": [],
   "source": [
    "add_pcr_master_mix(protocol, \"5\")"
   ],
   "metadata": {
    "collapsed": false
   },
   "id": "c58511b8e657a9ed"
  },
  {
   "cell_type": "code",
   "execution_count": null,
   "outputs": [],
   "source": [
    "transfer_assembly_products(protocol, \"5\")"
   ],
   "metadata": {
    "collapsed": false
   },
   "id": "a7160a6d93baf72c"
  },
  {
   "cell_type": "code",
   "execution_count": null,
   "outputs": [],
   "source": [
    "run_thermocycler(protocol, \"5\")"
   ],
   "metadata": {
    "collapsed": false
   },
   "id": "26f93369d5da1bc4"
  },
  {
   "cell_type": "markdown",
   "source": [
    "# Utility commands"
   ],
   "metadata": {
    "collapsed": false
   },
   "id": "35f8c5d5fa36ce7c"
  },
  {
   "cell_type": "code",
   "execution_count": null,
   "outputs": [],
   "source": [
    "def print_deck_layout(protocol):\n",
    "    for slot, item in protocol.deck.items():\n",
    "        if item:\n",
    "            print(f\"Slot {slot}: {item}\")\n",
    "        else:\n",
    "            print(f\"Slot {slot}: Empty\")\n",
    "            \n",
    "print_deck_layout(protocol)"
   ],
   "metadata": {
    "collapsed": false
   },
   "id": "8520417f17efdd40"
  },
  {
   "cell_type": "code",
   "execution_count": null,
   "outputs": [],
   "source": [
    "p300.return_tip()"
   ],
   "metadata": {
    "collapsed": false
   },
   "id": "5f381343e59ec6f5"
  }
 ],
 "metadata": {
  "kernelspec": {
   "display_name": "Python 3",
   "language": "python",
   "name": "python3"
  },
  "language_info": {
   "codemirror_mode": {
    "name": "ipython",
    "version": 2
   },
   "file_extension": ".py",
   "mimetype": "text/x-python",
   "name": "python",
   "nbconvert_exporter": "python",
   "pygments_lexer": "ipython2",
   "version": "2.7.6"
  }
 },
 "nbformat": 4,
 "nbformat_minor": 5
}
