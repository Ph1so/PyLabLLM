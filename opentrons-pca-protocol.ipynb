{
 "cells": [
  {
   "cell_type": "code",
   "execution_count": null,
   "id": "initial_id",
   "metadata": {
    "collapsed": true
   },
   "outputs": [],
   "source": [
    "import opentrons.execute\n",
    "from opentrons import protocol_api"
   ]
  },
  {
   "cell_type": "markdown",
   "source": [
    "## General deck setup"
   ],
   "metadata": {
    "collapsed": false
   },
   "id": "3f78783b0de189d"
  },
  {
   "cell_type": "code",
   "execution_count": null,
   "outputs": [],
   "source": [
    "protocol = opentrons.execute.get_protocol_api(\"2.17\")\n",
    "protocol.home()"
   ],
   "metadata": {
    "collapsed": false
   },
   "id": "d27f691ef54a5bd"
  },
  {
   "cell_type": "code",
   "execution_count": null,
   "outputs": [],
   "source": [
    "# Load tip racks\n",
    "tip_rack_20 = protocol.load_labware('opentrons_96_tiprack_20ul', 9)\n",
    "tip_rack_300 = protocol.load_labware('opentrons_96_tiprack_300ul', 6)"
   ],
   "metadata": {
    "collapsed": false
   },
   "id": "3fe984134d543e27"
  },
  {
   "cell_type": "code",
   "execution_count": 1,
   "outputs": [],
   "source": [
    "# Load pipette tips\n",
    "p20 = protocol.load_instrument(instrument_name='p20_single_gen2', mount=\"right\", tip_racks = [tip_rack_20])\n",
    "p300 = protocol.load_instrument(instrument_name='p300_single', mount='left', tip_racks=[tip_rack_300])"
   ],
   "metadata": {
    "collapsed": false,
    "ExecuteTime": {
     "end_time": "2024-05-06T15:10:21.510979Z",
     "start_time": "2024-05-06T15:10:21.508607Z"
    }
   },
   "id": "8a67d092296652e6"
  },
  {
   "cell_type": "code",
   "execution_count": null,
   "outputs": [],
   "source": [
    "# Load well plates\n",
    "frag_plate = protocol.load_labware(\"corning_96_wellplate_360ul_flat\", 1)\n",
    "qc_plate = protocol.load_labware(\"corning_96_wellplate_360ul_flat\", 2)"
   ],
   "metadata": {
    "collapsed": false
   },
   "id": "5afb57f88663a1a1"
  },
  {
   "cell_type": "markdown",
   "source": [
    "### Add reagents to well plate"
   ],
   "metadata": {
    "collapsed": false
   },
   "id": "6e286abb03a59679"
  },
  {
   "cell_type": "code",
   "execution_count": null,
   "outputs": [],
   "source": [
    "# Define liquids (optional)\n",
    "suspended_dna = protocol.define_liquid(\n",
    "    name=\"Suspended DNA\",\n",
    "    description=\"Oligo fragments suspended in buffer\",\n",
    "    display_color=\"#a8329d\",\n",
    ")"
   ],
   "metadata": {
    "collapsed": false
   },
   "id": "de19f4fe67281dee"
  },
  {
   "cell_type": "code",
   "execution_count": null,
   "outputs": [],
   "source": [
    "frag_wells = frag_plate.wells()[0:19].load_liquid(liquid=suspended_dna, volume=50)  # check volume"
   ],
   "metadata": {
    "collapsed": false
   },
   "id": "6cf887dd6626851d"
  },
  {
   "cell_type": "markdown",
   "source": [
    "## Load modules"
   ],
   "metadata": {
    "collapsed": false
   },
   "id": "1eeb50fdd82c1f3f"
  },
  {
   "cell_type": "code",
   "execution_count": null,
   "outputs": [],
   "source": [
    "thermocycler = protocol.load_module(\"thermocyclerModuleV1\", 7)\n",
    "thermocycler_plate = thermocycler.load_labware(\"nest_96_wellplate_100ul_pcr_full_skirt\")"
   ],
   "metadata": {
    "collapsed": false
   },
   "id": "eaab48759c6cf25b"
  },
  {
   "cell_type": "code",
   "execution_count": null,
   "outputs": [],
   "source": [
    "temp_module = protocol.load_module(\"temperatureModuleV1\", 3)\n",
    "temp_tubes = temp_module.load_labware(\"opentrons_24_aluminumblock_generic_2ml_screwcap\")"
   ],
   "metadata": {
    "collapsed": false
   },
   "id": "8b48a32985920b43"
  },
  {
   "cell_type": "markdown",
   "source": [
    "### Adding reagents to temperature controller"
   ],
   "metadata": {
    "collapsed": false
   },
   "id": "6b060a3440eb8c67"
  },
  {
   "cell_type": "code",
   "execution_count": 2,
   "outputs": [
    {
     "ename": "NameError",
     "evalue": "name 'protocol' is not defined",
     "output_type": "error",
     "traceback": [
      "\u001B[0;31m---------------------------------------------------------------------------\u001B[0m",
      "\u001B[0;31mNameError\u001B[0m                                 Traceback (most recent call last)",
      "Cell \u001B[0;32mIn[2], line 2\u001B[0m\n\u001B[1;32m      1\u001B[0m \u001B[38;5;66;03m# Define liquids (optional)\u001B[39;00m\n\u001B[0;32m----> 2\u001B[0m nuclease_free_water \u001B[38;5;241m=\u001B[39m \u001B[43mprotocol\u001B[49m\u001B[38;5;241m.\u001B[39mdefine_liquid(\n\u001B[1;32m      3\u001B[0m     name\u001B[38;5;241m=\u001B[39m\u001B[38;5;124m\"\u001B[39m\u001B[38;5;124mNuclease free water\u001B[39m\u001B[38;5;124m\"\u001B[39m,\n\u001B[1;32m      4\u001B[0m     description\u001B[38;5;241m=\u001B[39m\u001B[38;5;124m\"\u001B[39m\u001B[38;5;124mNuclease free water\u001B[39m\u001B[38;5;124m\"\u001B[39m,\n\u001B[1;32m      5\u001B[0m     display_color\u001B[38;5;241m=\u001B[39m\u001B[38;5;124m\"\u001B[39m\u001B[38;5;124m#0000FF\u001B[39m\u001B[38;5;124m\"\u001B[39m,\n\u001B[1;32m      6\u001B[0m )\n\u001B[1;32m      8\u001B[0m pcr_mastermix \u001B[38;5;241m=\u001B[39m protocol\u001B[38;5;241m.\u001B[39mdefine_liquid(\n\u001B[1;32m      9\u001B[0m     name\u001B[38;5;241m=\u001B[39m\u001B[38;5;124m\"\u001B[39m\u001B[38;5;124mPCR mastermix\u001B[39m\u001B[38;5;124m\"\u001B[39m,\n\u001B[1;32m     10\u001B[0m     description\u001B[38;5;241m=\u001B[39m\u001B[38;5;124m\"\u001B[39m\u001B[38;5;124mPCR mastermix\u001B[39m\u001B[38;5;124m\"\u001B[39m,\n\u001B[1;32m     11\u001B[0m     display_color\u001B[38;5;241m=\u001B[39m\u001B[38;5;124m\"\u001B[39m\u001B[38;5;124m#00FF00\u001B[39m\u001B[38;5;124m\"\u001B[39m,\n\u001B[1;32m     12\u001B[0m )\n",
      "\u001B[0;31mNameError\u001B[0m: name 'protocol' is not defined"
     ]
    }
   ],
   "source": [
    "# Define liquids (optional)\n",
    "nuclease_free_water = protocol.define_liquid(\n",
    "    name=\"Nuclease free water\",\n",
    "    description=\"Nuclease free water\",\n",
    "    display_color=\"#0000FF\",\n",
    ")\n",
    "\n",
    "pcr_mastermix = protocol.define_liquid(\n",
    "    name=\"PCR mastermix\",\n",
    "    description=\"PCR mastermix\",\n",
    "    display_color=\"#00FF00\",\n",
    ")"
   ],
   "metadata": {
    "collapsed": false,
    "ExecuteTime": {
     "end_time": "2024-05-07T13:40:51.943506Z",
     "start_time": "2024-05-07T13:40:51.579741Z"
    }
   },
   "id": "8b9a491d2171ca4c"
  },
  {
   "cell_type": "code",
   "execution_count": null,
   "outputs": [],
   "source": [
    "# Define reagents\n",
    "water_tube = temp_tubes[\"A1\"].load_liquid(liquid=nuclease_free_water, volume=200)  # check volume\n",
    "pcr_mastermix_tube = temp_tubes[\"A2\"].load_liquid(liquid=pcr_mastermix, volume=200)  # check volume\n",
    "waste_tube = temp_tubes[\"A3\"]"
   ],
   "metadata": {
    "collapsed": false
   },
   "id": "e6b191c807a57f87"
  },
  {
   "cell_type": "code",
   "execution_count": null,
   "outputs": [],
   "source": [],
   "metadata": {
    "collapsed": false
   },
   "id": "7dd857b69839c7b4"
  },
  {
   "cell_type": "markdown",
   "source": [
    "## Utility commands"
   ],
   "metadata": {
    "collapsed": false
   },
   "id": "35f8c5d5fa36ce7c"
  },
  {
   "cell_type": "code",
   "execution_count": null,
   "outputs": [],
   "source": [
    "def print_deck_layout(protocol):\n",
    "    for slot, item in protocol.deck.items():\n",
    "        if item:\n",
    "            print(f\"Slot {slot}: {item}\")\n",
    "        else:\n",
    "            print(f\"Slot {slot}: Empty\")\n",
    "            \n",
    "print_deck_layout(protocol)"
   ],
   "metadata": {
    "collapsed": false
   },
   "id": "8520417f17efdd40"
  }
 ],
 "metadata": {
  "kernelspec": {
   "display_name": "Python 3",
   "language": "python",
   "name": "python3"
  },
  "language_info": {
   "codemirror_mode": {
    "name": "ipython",
    "version": 2
   },
   "file_extension": ".py",
   "mimetype": "text/x-python",
   "name": "python",
   "nbconvert_exporter": "python",
   "pygments_lexer": "ipython2",
   "version": "2.7.6"
  }
 },
 "nbformat": 4,
 "nbformat_minor": 5
}
