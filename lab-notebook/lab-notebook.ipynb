{
 "cells": [
  {
   "cell_type": "markdown",
   "id": "bf4a255b-1ec5-4871-aad7-26760c6541a1",
   "metadata": {
    "collapsed": false
   },
   "source": [
    "# Lab automation notebook\n",
    "Lennart Justen  \n",
    "Created: 2024-04-15"
   ]
  },
  {
   "cell_type": "markdown",
   "id": "7df2f1fd-ae7a-49b1-8b84-9e31d2da2942",
   "metadata": {},
   "source": [
    "## 2024-04-15: Serial dilution workflow\n",
    "\n",
    "Today I spent around three hours in the Media Lab space and managed to set up a workflow for performing serial dilutions on the Opentron. I chose to work on serial dilutions today because their pretty straightforward from an automation perspective and seem like a good \"easy\" candidate for an LLM to attempt. In this entry, I'll walk through the PyLabRobot implementation and comment on a few takeaways after today's session.\n",
    "  \n",
    "### Serial dilution background\n",
    "Serial dilutions are a fundamental technique used to systematically dilute a concentrated solution by creating a series of successive dilutions, each being a fixed ratio of the previous one. The two most common dilution factors are ten-fold (1:10) and two-fold (1:2). In a ten-fold serial dilution, each subsequent dilution is 10 times less concentrated than the previous one, while in a two-fold serial dilution, each subsequent dilution is 2 times less concentrated.\n",
    "\n",
    "Ten-fold serial dilutions are typically used when a large range of concentrations needs to be covered, such as in bacterial enumeration or viral titer determination. Two-fold serial dilutions are often used when a more precise concentration range is required, such as in ELISA assays for antibody titer determination.\n",
    "\n",
    "I won't say much more here about serial dilutions because there are many great resources like [this one](https://www.integra-biosciences.com/united-states/en/blog/article/how-do-serial-dilutions-including-calculations) where you can learn more. \n",
    "\n",
    "### Lession 1: Claude understands serial dilutions\n",
    "Very early in the process, I asked Claude (Opus) to explain how the serial dilution would work given my lab setup. Claude helpfully outlined the steps I would need to take, and I based my implementation on the instructions. Later, when trying to recreate the behavior, Claude would sometimes accidentally provide me instructions for a 4-step dultion instead of a 5-step dilution (see example below), and once suggested adding more volume to a single well than was actually possible."
   ]
  },
  {
   "cell_type": "markdown",
   "source": [
    "**LJ**\n",
    "```markdown\n",
    "I want perform a simple 5-step 10-fold serial dilution on an Opentrons liquid handling robot. This example is more to help me understand the math and logic behind the process as opposed to achieving some experimental goal. \n",
    " \n",
    "Given the following resources, walk me through the steps for performing the serial dilution.\n",
    " 1. A 360 uL 96-well plate\n",
    " 2. A beaker of water (dilutent)\n",
    " 3. A beaker of water + food coloring (my concentrated solution)\n",
    "```\n",
    "**Claude**\n",
    "```markdown\n",
    "Great! Let's walk through the steps for performing a simple 5-step 10-fold serial dilution using an Opentrons liquid handling robot. We'll use water as the diluent and water with food coloring as the concentrated solution.\n",
    "\n",
    "Resources:\n",
    "1. A 360 µL 96-well plate\n",
    "2. A beaker of water (diluent)\n",
    "3. A beaker of water + food coloring (concentrated solution)\n",
    "\n",
    "Steps:\n",
    "1. Begin by adding 180 µL of water (diluent) to wells A2, A3, A4, and A5 of the 96-well plate using the Opentrons robot.\n",
    "2. Add 200 µL of the water + food coloring solution (concentrated solution) to well A1 of the 96-well plate.\n",
    "3. Transfer 20 µL of the solution from well A1 to well A2 using the Opentrons robot. Mix the contents of well A2 by pipetting up and down a few times. This step creates a 1:10 dilution (10^-1) of the original solution.\n",
    "4. Transfer 20 µL of the diluted solution from well A2 to well A3. Mix the contents of well A3 by pipetting up and down a few times. This step creates a 1:100 dilution (10^-2) of the original solution.\n",
    "5. Transfer 20 µL of the diluted solution from well A3 to well A4. Mix the contents of well A4 by pipetting up and down a few times. This step creates a 1:1,000 dilution (10^-3) of the original solution.\n",
    "6. Transfer 20 µL of the diluted solution from well A4 to well A5. Mix the contents of well A5 by pipetting up and down a few times. This step creates a 1:10,000 dilution (10^-4) of the original solution.\n",
    "\n",
    "At the end of this process, you will have the following dilutions in your 96-well plate:\n",
    "* Well A1: Original concentrated solution\n",
    "* Well A2: 1:10 dilution (10^-1)\n",
    "* Well A3: 1:100 dilution (10^-2)\n",
    "* Well A4: 1:1,000 dilution (10^-3)\n",
    "* Well A5: 1:10,000 dilution (10^-4)\n",
    "\n",
    "The math behind each dilution step is as follows:\n",
    "* Step 3: (20 µL of solution A1 + 180 µL of diluent) / 200 µL total volume = 1:10 dilution\n",
    "* Step 4: (20 µL of solution A2 + 180 µL of diluent) / 200 µL total volume = 1:100 dilution\n",
    "* Step 5: (20 µL of solution A3 + 180 µL of diluent) / 200 µL total volume = 1:1,000 dilution\n",
    "* Step 6: (20 µL of solution A4 + 180 µL of diluent) / 200 µL total volume = 1:10,000 dilution\n",
    "\n",
    "The Opentrons robot can be programmed to perform these steps accurately and consistently, making the serial dilution process more efficient and reproducible.\n",
    "```\n",
    "\n",
    "Thanks Claude!"
   ],
   "metadata": {
    "collapsed": false
   },
   "id": "5757aeecd023daa0"
  },
  {
   "cell_type": "markdown",
   "source": [
    "### Implementing the serial dilution on PyLabRobot\n",
    "For this part, I didn't use any LLMs outside of a few basic syntax questions where the LLM replaced stack overflow. Doing this \"manually\" was helpful to get more comfortable with PyLabRobot and also go end-to-end on a protocol implementation. I think that was actually the most important part, because I learned how protocol development occurs, and what it takes to \"debug\" your protocol in real-time. Using Jupyter notebooks is incredibly powerful for this because you can perform single commands and verify that each piece of your protocol works before moving onto the next part. Let's look at the implementation and then I'll discuss a few takeaways. "
   ],
   "metadata": {
    "collapsed": false
   },
   "id": "392d94b5b7ce46f2"
  },
  {
   "cell_type": "code",
   "execution_count": 1,
   "id": "initial_id",
   "metadata": {
    "ExecuteTime": {
     "end_time": "2024-04-16T01:46:43.914618Z",
     "start_time": "2024-04-16T01:46:43.192942Z"
    },
    "collapsed": true,
    "jupyter": {
     "outputs_hidden": true
    }
   },
   "outputs": [],
   "source": [
    "from pylabrobot.liquid_handling import LiquidHandler\n",
    "from pylabrobot.liquid_handling.backends import OpentronsBackend\n",
    "from pylabrobot.visualizer.visualizer import Visualizer\n",
    "from pylabrobot.resources import OTDeck, Coordinate"
   ]
  },
  {
   "cell_type": "code",
   "execution_count": 12,
   "id": "4a50381fc6e2e345",
   "metadata": {
    "ExecuteTime": {
     "end_time": "2024-04-15T22:16:35.741361Z",
     "start_time": "2024-04-15T22:16:23.537215Z"
    },
    "collapsed": false
   },
   "outputs": [],
   "source": [
    "# Basic setup\n",
    "backend = OpentronsBackend(host=\"169.254.184.185\", port=31950)\n",
    "lh = LiquidHandler(backend=backend, deck=OTDeck())\n",
    "await lh.setup() "
   ]
  },
  {
   "cell_type": "code",
   "execution_count": 13,
   "id": "fec59408a5aebb5c",
   "metadata": {
    "ExecuteTime": {
     "end_time": "2024-04-15T22:16:36.897169Z",
     "start_time": "2024-04-15T22:16:35.742729Z"
    },
    "collapsed": false
   },
   "outputs": [],
   "source": [
    "# Define tips and well plate resources \n",
    "from pylabrobot.resources.opentrons import *\n",
    "\n",
    "tips300 = opentrons_96_tiprack_300ul(\"tip_rack_300\")\n",
    "lh.deck.assign_child_at_slot(tips300, slot=10)\n",
    "\n",
    "tips20 = opentrons_96_tiprack_20ul(\"tip_rack_20\")\n",
    "lh.deck.assign_child_at_slot(tips20, slot=8)\n",
    "\n",
    "well_plate = corning_96_wellplate_360ul_flat(\"96_wellplate_360ul_flat\")  # well volume is 400 uL MAX. Probably use 200-300 uL. \n",
    "lh.deck.assign_child_at_slot(well_plate, slot=7)"
   ]
  },
  {
   "cell_type": "markdown",
   "id": "3f2fd14269fb8391",
   "metadata": {
    "collapsed": false
   },
   "source": [
    "Let's define two custom resource for our dye solution and dilutent beakers."
   ]
  },
  {
   "cell_type": "code",
   "execution_count": 14,
   "id": "95cb583492b07b1a",
   "metadata": {
    "ExecuteTime": {
     "end_time": "2024-04-15T22:16:37.169843Z",
     "start_time": "2024-04-15T22:16:36.902941Z"
    },
    "collapsed": false
   },
   "outputs": [],
   "source": [
    "from pylabrobot.resources import Container, Coordinate\n",
    "\n",
    "# Define custom beaker resource with dilutent\n",
    "dilutent_deck_slot = Container(name=\"dilutent_deck_parent\", size_x=127,size_y=86,size_z=0)  # Dimensions of a single slot on the Opentrons deck\n",
    "dilutent_beaker = Container(name='dilutent_beaker', size_x=40,size_y=40,size_z=10)  # Dimensions of the beaker represented as a 3-dimensional box\n",
    "dilutent_deck_slot.assign_child_resource(dilutent_beaker, Coordinate(x=43.5, y=23, z=0))  # Coordinates of the beaker with respect to the beaker_parent coordinate system\n",
    "lh.deck.assign_child_at_slot(dilutent_deck_slot, slot=1)\n",
    "\n",
    "# Define custom beaker resource with dye solution\n",
    "dye_deck_slot = Container(name=\"dye_deck_parent\", size_x=127,size_y=86,size_z=0)\n",
    "dye_beaker = Container(name='dye_beaker', size_x=25,size_y=24,size_z=10)\n",
    "dye_deck_slot.assign_child_resource(dye_beaker, Coordinate(x=43.5, y=23, z=0))\n",
    "lh.deck.assign_child_at_slot(dye_deck_slot, slot=2)"
   ]
  },
  {
   "cell_type": "code",
   "execution_count": 15,
   "id": "882fc22d4d46cabd",
   "metadata": {
    "ExecuteTime": {
     "end_time": "2024-04-15T22:16:37.178276Z",
     "start_time": "2024-04-15T22:16:37.174100Z"
    },
    "collapsed": false
   },
   "outputs": [
    {
     "name": "stdout",
     "output_type": "stream",
     "text": [
      "\n",
      "Deck: 624.3mm x 565.2mm\n",
      "\n",
      "+-----------------+-----------------+-----------------+\n",
      "|                 |                 |                 |\n",
      "| 10: tip_rack... | 11: Empty       | 12: trash_co... |\n",
      "|                 |                 |                 |\n",
      "+-----------------+-----------------+-----------------+\n",
      "|                 |                 |                 |\n",
      "|  7: 96_wellp... |  8: tip_rack... |  9: Empty       |\n",
      "|                 |                 |                 |\n",
      "+-----------------+-----------------+-----------------+\n",
      "|                 |                 |                 |\n",
      "|  4: Empty       |  5: Empty       |  6: Empty       |\n",
      "|                 |                 |                 |\n",
      "+-----------------+-----------------+-----------------+\n",
      "|                 |                 |                 |\n",
      "|  1: dilutent... |  2: bacteria... |  3: Empty       |\n",
      "|                 |                 |                 |\n",
      "+-----------------+-----------------+-----------------+\n"
     ]
    }
   ],
   "source": [
    "lh.summary()"
   ]
  },
  {
   "cell_type": "markdown",
   "id": "ea27c464bc26f480",
   "metadata": {
    "collapsed": false
   },
   "source": [
    "Next, let's label wells with their respective dilution factors for clarity. "
   ]
  },
  {
   "cell_type": "code",
   "execution_count": 16,
   "id": "1a35e5fbe0daf200",
   "metadata": {
    "ExecuteTime": {
     "end_time": "2024-04-15T22:16:40.179589Z",
     "start_time": "2024-04-15T22:16:40.160097Z"
    },
    "collapsed": false
   },
   "outputs": [],
   "source": [
    "initial = well_plate['A1']  # initial concentration\n",
    "dilution1 = well_plate['A2']  # 1:10 dilution\n",
    "dilution2 = well_plate['A3']  # 1:100 dilution\n",
    "dilution3 = well_plate['A4']  # 1:1000 dilution\n",
    "dilution4 = well_plate['A5']  # 1:10000 dilution\n",
    "dilution5 = well_plate['A6']  # 1:100000 dilution\n",
    "dilution_wells = [dilution1, dilution2, dilution3, dilution4, dilution5]"
   ]
  },
  {
   "cell_type": "markdown",
   "id": "a409ed048d175cce",
   "metadata": {
    "collapsed": false
   },
   "source": [
    "Let's transfer 200 uL of the original dye-containing solution into the `initial` well."
   ]
  },
  {
   "cell_type": "code",
   "execution_count": 17,
   "id": "b0cc71ef6d82fe9b",
   "metadata": {
    "ExecuteTime": {
     "end_time": "2024-04-15T22:17:17.774931Z",
     "start_time": "2024-04-15T22:16:46.040790Z"
    },
    "collapsed": false
   },
   "outputs": [],
   "source": [
    "await lh.pick_up_tips(tips300[f'A1'], offsets=[Coordinate(y=0.18, z=-6)]) # pick up a new tip\n",
    "await lh.aspirate(dye_beaker,200, offsets=[Coordinate(z=8)]) # grab dye solution from beaker resource\n",
    "await lh.dispense(initial, vols=200, offsets=[Coordinate(y=0.2)])\n",
    "await lh.discard_tips()"
   ]
  },
  {
   "cell_type": "markdown",
   "id": "8ab25b22fc05a8ef",
   "metadata": {
    "collapsed": false
   },
   "source": [
    "Next, we'll transfer 180 uL of dilutent into each of the dilution wells. We will reuse the pipette tip since we're just transfering water and discard it at the end."
   ]
  },
  {
   "cell_type": "code",
   "execution_count": 18,
   "id": "ffbbe663a3a51b59",
   "metadata": {
    "ExecuteTime": {
     "end_time": "2024-04-15T22:18:16.257822Z",
     "start_time": "2024-04-15T22:17:17.773520Z"
    },
    "collapsed": false
   },
   "outputs": [],
   "source": [
    "await lh.pick_up_tips(tips300[f'A2'], offsets=[Coordinate(y=0.18, z=-6)]) # pick up a new tip\n",
    "\n",
    "for index, well in enumerate(dilution_wells):\n",
    "    await lh.aspirate(dilutent_beaker,180, offsets=[Coordinate(z=20)]) # grab dilutent from beaker resource\n",
    "    await lh.dispense(well, vols=180, offsets=[Coordinate(y=0.2)])\n",
    "\n",
    "await lh.discard_tips()"
   ]
  },
  {
   "cell_type": "markdown",
   "id": "999dc56332a44641",
   "metadata": {
    "collapsed": false
   },
   "source": [
    "Next, we'll transfer 20 uL from the dye solution beaker into the `dilution1` well, creating our 1:10 dilution. We'll then take 20 uL from `dilution1` and transfer it to `dilution2` well and so on, until we've performed all of our dilutions. "
   ]
  },
  {
   "cell_type": "code",
   "execution_count": 19,
   "id": "1c024bb3360b294c",
   "metadata": {
    "ExecuteTime": {
     "end_time": "2024-04-15T22:19:29.803578Z",
     "start_time": "2024-04-15T22:18:16.256329Z"
    },
    "collapsed": false
   },
   "outputs": [],
   "source": [
    "await lh.pick_up_tips(tips20[f'A1'], offsets=[Coordinate(z=-6)]) # pick up a new tip\n",
    "await lh.aspirate(dye_beaker,20, offsets=[Coordinate(z=8)])  # get liquid from bacteria beaker\n",
    "await lh.dispense(dilution1,20, offsets=[Coordinate(z=2)])  # aspirate to make 1:10 dilution\n",
    "\n",
    "for i in range(len(dilution_wells) - 1):\n",
    "    source_well = dilution_wells[i]\n",
    "    destination_well = dilution_wells[i+1]\n",
    "\n",
    "    await lh.aspirate(source_well, 20, offsets=[Coordinate(z=-6.5)])\n",
    "    await lh.dispense(destination_well, 20, offsets=[Coordinate(z=2)])\n",
    "\n",
    "await lh.discard_tips()"
   ]
  },
  {
   "cell_type": "markdown",
   "source": [
    "Voilà. I tested the protocol and it (mostly) works (video available [here](https://drive.google.com/file/d/1tfTrZ-EDtZxzYby-h9OeZ4C_8xqy8Qm7/view?usp=sharing)). The main issue I saw on the current implementation is that when dispensing with the 20 uL pipette step, a drop tends to form at the bottom of the pipette that likes to hang on to the tip... unfortunately that drop represents about half the volume inside the pipette. This is probably an issue addressed somewhere, so I'll need to read up on that. On a related not, I didn't really do any mixing of the dilutions. I could have aspirated/dispensed a few times with the tip in the well. This would have both mixed the solution and ensured the drop made it into the well. \n",
    "\n",
    "Other improvements to consider:\n",
    "* Use a [multi-channel adapter](https://parheliabio.com/product/opentrons-multi-channel-electronic-pipette-p300/) for the OT to save time when transferring dilutent (Thanks for making me aware of this, Alex K!) \n",
    "* If I was doing this for real, I should have discarded tips between each dilution step to avoid tracking in liquid from a different well. In avoided this to save time and tips. "
   ],
   "metadata": {
    "collapsed": false
   },
   "id": "7fe2ec7b6c9e31bc"
  },
  {
   "cell_type": "markdown",
   "source": [
    "### Lesson 2: Iterative protocol development is your friend\n",
    "When I was initially thinking about this project, I was somewhat naive in believing that LLMs would be able to 1-shot large portions of protocols or entire protocols. That seems hard.  \n",
    "\n",
    "Developing the protocol was an iterative process. Are the custom resources in the right sopt on the deck? Is the tip going far enough into the beaker to actually pick up liquid? How deep does the 20 uL tip need to go into the 96-well-plate to actually aspirate liquid? All of these questions that pop up are difficult to know, even when you have pretty good knowledge of the deck setup. Some trial and error is inherent in the process. The fact that you can execute single commands in Jupyter notebook is really useful as it let's you iterate over a step.  \n",
    "\n",
    "The scenario below is hopefully illustrative of how a lot of the development happened.\n",
    "\n",
    "> Alright... I need to get the robot to aspirate liquid from this beaker. I'll define it on the deck and then actually put water in the beaker and put it on the deck. Now let's try the aspirate step with a z coordinate z=40. Oops. To high. Didn't get any liquid but the API thinks I have liquid in the top. Okay, send a command to dispense the ghost liquid. Alright, how about z=20... okay, that worked. Dispense. Okay pick up a new tip. Shoot, I asked it to pick up a tip from an empty tip slot. Okay, put pack the ghost tip and move out of the way so I can put a tip in there... So on and so forth.\n",
    "\n",
    "In this kind of workflow where code meets the real world, iteration is your friend and it currently seems unrealistic to me for LLMs to do any kind of one-shot-and-run protocol development here. That said, if you can figure out and communicate to LLMs where their capabilities *will* be helpful, then I'm sure they can still be great automation assistant. For example, they could come up with the main skeleton script, helpfully divided into test-able parts and flag places where testing needs to be done. Today was helpful to get me thinking more about how LLMs can fit into the lab automation workflow grounded in a more realistic understanding of protocol development."
   ],
   "metadata": {
    "collapsed": false
   },
   "id": "68e7ca79f22ff06"
  },
  {
   "cell_type": "code",
   "execution_count": null,
   "outputs": [],
   "source": [],
   "metadata": {
    "collapsed": false
   },
   "id": "57c44d2393e2bae3"
  }
 ],
 "metadata": {
  "kernelspec": {
   "display_name": "Python 3 (ipykernel)",
   "language": "python",
   "name": "python3"
  },
  "language_info": {
   "codemirror_mode": {
    "name": "ipython",
    "version": 3
   },
   "file_extension": ".py",
   "mimetype": "text/x-python",
   "name": "python",
   "nbconvert_exporter": "python",
   "pygments_lexer": "ipython3",
   "version": "3.10.13"
  }
 },
 "nbformat": 4,
 "nbformat_minor": 5
}
